{
 "cells": [
  {
   "cell_type": "markdown",
   "id": "bc6f8c50",
   "metadata": {},
   "source": [
    "# Reproduction table 1\n",
    "\n",
    "In this notebook, we generate a glycogen structure and we calculate some structural properties"
   ]
  },
  {
   "cell_type": "code",
   "execution_count": 1,
   "id": "e78e8f6b",
   "metadata": {},
   "outputs": [],
   "source": [
    "import math\n",
    "import numpy as np\n",
    "from pylab import *\n",
    "import os\n",
    "import os.path\n",
    "import json\n",
    "import glycogen_module as gm\n",
    "import random\n",
    "import pandas as pd\n",
    "import matplotlib.pyplot as plt\n",
    "\n",
    "random.seed(123)  # add seed for reproducibility\n",
    "\n",
    "with open(\"parameters.json\", \"r\") as f:\n",
    "    parameters = json.load(f)\n"
   ]
  },
  {
   "cell_type": "code",
   "execution_count": 2,
   "id": "12ebd20e",
   "metadata": {},
   "outputs": [],
   "source": [
    "from algorithm import Gillespie_step\n"
   ]
  },
  {
   "cell_type": "markdown",
   "id": "539cd661",
   "metadata": {},
   "source": [
    "## Generating a granule"
   ]
  },
  {
   "cell_type": "code",
   "execution_count": 3,
   "id": "5e90da8c",
   "metadata": {},
   "outputs": [],
   "source": [
    "my_granule = gm.glycogen_structure(parameters, 2, 1)\n",
    "\n",
    "parameters['number_max_of_monomer'] = 2000\n",
    "\n",
    "N = my_granule.number_of_glucose_fixed()\n",
    "\n",
    "# here set GS = 1.0 and GBE = 0.1 if you want to produce the figure for gamma = 10.0\n",
    "C0 = {\"GS\": 0.2, \"GBE\": 1, \"GP\": 0.0, \"GDE\": 0.0}\n",
    "k = {\"k_GS\": 1, \"k_GBE\": 1, \"k_GP\": 1, \"k_GDE\": 1}\n",
    "\n",
    "while N < parameters['number_max_of_monomer']:\n",
    "    if N % 5000 == 0:\n",
    "        print('avancement = ', 100*N /\n",
    "              parameters['number_max_of_monomer'], '%', '   part 1/2')\n",
    "    reaction, time = Gillespie_step(my_granule, C0, k)\n",
    "\n",
    "    if reaction == 'Act_gs()':\n",
    "        my_granule.Act_gs()\n",
    "    elif reaction == 'Act_gp()':\n",
    "        my_granule.Act_gp()\n",
    "    elif reaction == 'Act_gbe()':\n",
    "        my_granule.Act_gbe_flexible_model()\n",
    "    elif reaction == 'Act_gde()':\n",
    "        my_granule.Act_gde()\n",
    "\n",
    "    N = my_granule.number_of_glucose_fixed()\n",
    "\n",
    "# write output\n",
    "name = 'glycogen_structure_N='+str(N)+'_gamma='+str(C0['GS']/C0['GBE'])+'.json'\n",
    "my_granule.write_structure(name)\n"
   ]
  },
  {
   "cell_type": "markdown",
   "id": "0056c24f",
   "metadata": {},
   "source": [
    "## Structural properties calculation"
   ]
  },
  {
   "cell_type": "code",
   "execution_count": 4,
   "id": "437e8945",
   "metadata": {},
   "outputs": [
    {
     "name": "stdout",
     "output_type": "stream",
     "text": [
      "Number of non-reducing ends (nre): 234\n",
      "A:B ratio: 0.828125\n",
      "Average chain length: 8.547008547008547\n",
      "Branching degree: 0.1319365798414496\n",
      "Last generation: 9\n",
      "Occupancy: 0.26501378402271314\n",
      "Radius of gyration: 8.315951260110426 nm for 2000 glucose units\n"
     ]
    }
   ],
   "source": [
    "print('Number of non-reducing ends (nre):', my_granule.number_of_chain())\n",
    "print('A:B ratio:', my_granule.AtoBratio())\n",
    "print('Average chain length:', my_granule.avg_cl())\n",
    "print('Branching degree:', my_granule.bd())\n",
    "print('Last generation:', my_granule.get_last_gen_index())\n",
    "print('Occupancy:', my_granule.occupancy())\n",
    "\n",
    "r_g, _ = my_granule.get_radius('nm')\n",
    "print('Radius of gyration:', r_g, 'nm', 'for', N, 'glucose units')\n"
   ]
  },
  {
   "cell_type": "code",
   "execution_count": null,
   "id": "b36f3e45",
   "metadata": {},
   "outputs": [],
   "source": []
  }
 ],
 "metadata": {
  "kernelspec": {
   "display_name": "Python 3.11.0 ('env': venv)",
   "language": "python",
   "name": "python3"
  },
  "language_info": {
   "codemirror_mode": {
    "name": "ipython",
    "version": 3
   },
   "file_extension": ".py",
   "mimetype": "text/x-python",
   "name": "python",
   "nbconvert_exporter": "python",
   "pygments_lexer": "ipython3",
   "version": "3.11.0"
  },
  "vscode": {
   "interpreter": {
    "hash": "cd66791583bdaddf4a841a26ab61e5297744ecaa8cae09fecddd1bd9d0169fe3"
   }
  }
 },
 "nbformat": 4,
 "nbformat_minor": 5
}
