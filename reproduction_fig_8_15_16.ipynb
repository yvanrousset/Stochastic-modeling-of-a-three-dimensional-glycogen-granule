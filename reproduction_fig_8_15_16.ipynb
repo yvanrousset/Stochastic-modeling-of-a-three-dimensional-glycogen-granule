{
 "cells": [
  {
   "cell_type": "markdown",
   "metadata": {},
   "source": [
    "# Reproduction of fig 8 and 14 and 15 (heatmaps) \n",
    "\n",
    "In this notebook we describe how to generate the heatmaps from the paper.\n",
    "\n",
    "The number of simulations as well as the size of the granules are, by default, set really low in order to reduce the computational time of this notebook. The expected time here is around 5min. It differ from the article where each cell of each heatmaps contains 20 runs for the \"unzoom\" area with N = 5000 glucose units.\n",
    "\n",
    "### NB: Fig 15\n",
    "Fig 15 is all the heatmaps obtained with the strict location model concatenated. To generate a heatmaps using the strict location model, one have to change:\n",
    "\n",
    "`elif reaction == 'Act_gbe':\n",
    "    my_granule.Act_gbe_flexible_model()`\n",
    "    \n",
    "into:\n",
    "\n",
    "`elif reaction == 'Act_gbe':\n",
    "    my_granule.Act_gbe_strict_location()`"
   ]
  },
  {
   "cell_type": "markdown",
   "metadata": {},
   "source": [
    "### Setting up the parameter grid\n",
    "\n",
    "\n",
    "Here we generate a single heatmaps as an example. We chose to vary:<br>\n",
    "$L_{\\textrm{min}}^{\\textrm{spacing}} \\in \\{ 1,2,3,4,5,6 \\}$ <br>\n",
    "$L_{\\textrm{min}}^{\\textrm{transferred}} \\in \\{ 3 \\}$ <br>\n",
    "$\\Gamma \\in  \\{ 0.1, 0.2, 0.3,0.4,0.6,0.8,1.0,2.0,5.0 \\}$<br>\n"
   ]
  },
  {
   "cell_type": "code",
   "execution_count": 11,
   "metadata": {},
   "outputs": [],
   "source": [
    "import math\n",
    "import numpy as np\n",
    "from pylab import *\n",
    "import os, os.path\n",
    "import json\n",
    "import glycogen_module as gm\n",
    "import random\n",
    "import pandas as pd\n",
    "from mpl_toolkits.axes_grid1 import make_axes_locatable "
   ]
  },
  {
   "cell_type": "code",
   "execution_count": 12,
   "metadata": {},
   "outputs": [],
   "source": [
    "#number of simulations for a given set of parameter:\n",
    "\n",
    "\n",
    "values_for_spacing = range(1,7)\n",
    "values_for_leftover = range(3,4)\n",
    "\n",
    "#range for Gamma is obtained by providing given couples (GS, GBE):\n",
    "values_for_gamma = []\n",
    "values_for_gys = [0.1,0.2,0.3,0.4,0.6,0.8,1,1,1] \n",
    "values_for_gbe = [1,1,1,1,1,1,1,0.5,0.2]\n",
    "\n",
    "#values_for_gys = [0.4,0.45,0.50,0.55,0.60,0.65,0.70,0.75,0.8] \n",
    "#values_for_gbe = [1,1,1,1,1,1,1,1,1]\n",
    "\n",
    "\n",
    "for i in range(len(values_for_gbe)):\n",
    "    values_for_gamma.append(values_for_gys[i]/values_for_gbe[i])\n",
    "\n",
    "\n",
    "def Gillespie_step(structure, C):\n",
    "    ''' This functions takes concentrations of the enzymes and the structure info of a glycogen granules and\n",
    "    return what is the next reaction to occurs and which time has been spent. (Following a gillespie algorithm)\n",
    "    '''\n",
    "    #propensity assuming mass action kinetics\n",
    "    h_gs = C[\"GS\"]*len(structure.Find_chain_for_gs())\n",
    "    h_gp = C[\"GP\"]*len(structure.Find_chain_for_gp())\n",
    "    h_gbe = C[\"GBE\"]*len(structure.Find_chain_for_gbe())\n",
    "    h_gde = C[\"GDE\"]*len(structure.Find_chain_for_gde())\n",
    "    \n",
    "    a = h_gs + h_gp + h_gbe + h_gde\n",
    "    \n",
    "    if a == 0:\n",
    "        return \"no reaction can be proceed, all propensities are zero\",0\n",
    "    r2=random.uniform(0,a)    \n",
    "    r1=random.uniform(0,1)\t\n",
    "    \n",
    "    d_t = (1/a)*math.log(1/r1)\n",
    "    if r2 < h_gs :\n",
    "        return \"Act_gs\",d_t\n",
    "    elif r2 >= h_gs and r2 < h_gs + h_gp :\n",
    "        return \"Act_gp\",d_t\n",
    "    elif r2 >=  h_gs + h_gp  and r2 < h_gs + h_gp + h_gbe :\n",
    "        return \"Act_gbe\",d_t\n",
    "    elif r2 >=  h_gs + h_gp + h_gbe  and r2 < h_gs + h_gp + h_gbe + +h_gde:\n",
    "        return \"Act_gde\",d_t   \n"
   ]
  },
  {
   "cell_type": "code",
   "execution_count": 13,
   "metadata": {},
   "outputs": [],
   "source": [
    "with open(\"parameters.json\", \"r\") as f:\n",
    "    parameters = json.load(f) \n",
    "\n",
    "parameters['b']=5.4\n",
    "parameters['number_of_glucose_to_be_fixed']=1000"
   ]
  },
  {
   "cell_type": "code",
   "execution_count": 14,
   "metadata": {},
   "outputs": [
    {
     "ename": "FileExistsError",
     "evalue": "[Errno 17] File exists: '/home/yvan/Desktop/Stochastic-modeling-of-a-three-dimensional-glycogen-granule/data_for_heatmaps'",
     "output_type": "error",
     "traceback": [
      "\u001b[0;31m---------------------------------------------------------------------------\u001b[0m",
      "\u001b[0;31mFileExistsError\u001b[0m                           Traceback (most recent call last)",
      "\u001b[1;32m/home/yvan/Desktop/Stochastic-modeling-of-a-three-dimensional-glycogen-granule/reproduction_fig_8_14_15.ipynb Cell 6\u001b[0m in \u001b[0;36m<cell line: 6>\u001b[0;34m()\u001b[0m\n\u001b[1;32m      <a href='vscode-notebook-cell:/home/yvan/Desktop/Stochastic-modeling-of-a-three-dimensional-glycogen-granule/reproduction_fig_8_14_15.ipynb#W5sZmlsZQ%3D%3D?line=3'>4</a>\u001b[0m path_of_local_folder \u001b[39m=\u001b[39m os\u001b[39m.\u001b[39mgetcwd()\n\u001b[1;32m      <a href='vscode-notebook-cell:/home/yvan/Desktop/Stochastic-modeling-of-a-three-dimensional-glycogen-granule/reproduction_fig_8_14_15.ipynb#W5sZmlsZQ%3D%3D?line=4'>5</a>\u001b[0m folder_name \u001b[39m=\u001b[39m \u001b[39m'\u001b[39m\u001b[39m/data_for_heatmaps\u001b[39m\u001b[39m'\u001b[39m\n\u001b[0;32m----> <a href='vscode-notebook-cell:/home/yvan/Desktop/Stochastic-modeling-of-a-three-dimensional-glycogen-granule/reproduction_fig_8_14_15.ipynb#W5sZmlsZQ%3D%3D?line=5'>6</a>\u001b[0m os\u001b[39m.\u001b[39;49mmkdir(path_of_local_folder\u001b[39m+\u001b[39;49mfolder_name)\n\u001b[1;32m      <a href='vscode-notebook-cell:/home/yvan/Desktop/Stochastic-modeling-of-a-three-dimensional-glycogen-granule/reproduction_fig_8_14_15.ipynb#W5sZmlsZQ%3D%3D?line=6'>7</a>\u001b[0m data_path \u001b[39m=\u001b[39m path_of_local_folder\u001b[39m+\u001b[39mfolder_name\n\u001b[1;32m      <a href='vscode-notebook-cell:/home/yvan/Desktop/Stochastic-modeling-of-a-three-dimensional-glycogen-granule/reproduction_fig_8_14_15.ipynb#W5sZmlsZQ%3D%3D?line=8'>9</a>\u001b[0m \u001b[39mfor\u001b[39;00m leftover \u001b[39min\u001b[39;00m values_for_leftover:\n",
      "\u001b[0;31mFileExistsError\u001b[0m: [Errno 17] File exists: '/home/yvan/Desktop/Stochastic-modeling-of-a-three-dimensional-glycogen-granule/data_for_heatmaps'"
     ]
    }
   ],
   "source": [
    "Number_of_simulations = 5\n",
    "\n",
    "\n",
    "path_of_local_folder = os.getcwd()\n",
    "folder_name = '/data_for_heatmaps'\n",
    "os.mkdir(path_of_local_folder+folder_name)\n",
    "data_path = path_of_local_folder+folder_name\n",
    "\n",
    "for leftover in values_for_leftover:\n",
    "    parameters['size_spec_gbe_leftover'] = leftover\n",
    "    parameters['size_spec_gbe_transferred'] = leftover\n",
    "    for spacing in values_for_spacing:\n",
    "        parameters['size_spec_gbe_spacing'] = spacing\n",
    "        for gs,gbe in zip(values_for_gys,values_for_gbe): \n",
    "            \n",
    "            identifier = str(spacing)+str(parameters['size_spec_gbe_leftover'])+str(parameters['size_spec_gbe_transferred'])+'_'+str(gs/gbe)\n",
    "\n",
    "            os.mkdir(data_path+'/'+identifier)\n",
    "            folder_path =data_path+'/'+identifier\n",
    "\n",
    "            for i in range(Number_of_simulations):\n",
    "                my_granule = gm.glycogen_structure(parameters, 2,1)\n",
    "\n",
    "                N = my_granule.number_of_glucose_fixed()  \n",
    "\n",
    "                C0 = {\"GS\":gs,\"GBE\":gbe,\"GP\":0.00,\"GDE\":0.00}          # here set GS = 1.0 and GBE = 0.1 if you want to produce the figure for gamma = 10.0\n",
    "                \n",
    "                while N < parameters['number_of_glucose_to_be_fixed']:\n",
    "                    if N%5000 == 0:\n",
    "                        print('avancement = ', 100*N/parameters['number_of_glucose_to_be_fixed'], '%','   part 1/2')\n",
    "                    reaction, time = Gillespie_step(my_granule, C0)\n",
    "\n",
    "                    if reaction == 'Act_gs':\n",
    "                        my_granule.Act_gs()\n",
    "                    elif reaction == 'Act_gp' and N>10:\n",
    "                        my_granule.Act_gp()\n",
    "                    elif reaction == 'Act_gbe':\n",
    "                        my_granule.Act_gbe_flexible_model()\n",
    "                    elif reaction == 'Act_gde':\n",
    "                        my_granule.Act_gde()\n",
    "\n",
    "\n",
    "                    N = my_granule.number_of_glucose_fixed()\n",
    "                    #print(reaction,time)\n",
    "                name = 'glycogen_structure'+str(i+1)+'.json'\n",
    "                my_granule.write_structure( folder_path+'/'+name)   \n",
    "                "
   ]
  },
  {
   "cell_type": "markdown",
   "metadata": {},
   "source": [
    "We have now generated the glycogen granules for our parameters grid.\n",
    "\n",
    "## Best-fit part.\n"
   ]
  },
  {
   "cell_type": "code",
   "execution_count": 15,
   "metadata": {},
   "outputs": [],
   "source": [
    "df = pd.read_csv('wt-sullivan.csv')\n",
    "Y_wt = df['dp'].tolist()\n",
    "X = np.linspace(0,40,41)\n",
    "path_of_local_folder = os.getcwd()"
   ]
  },
  {
   "cell_type": "code",
   "execution_count": 16,
   "metadata": {},
   "outputs": [],
   "source": [
    "def cld(dict):\n",
    "    histo=[]\n",
    "    for chain in dict.values(): \n",
    "        histo.append(len(chain['glucose_location']))\n",
    "    return histo \n",
    "\n",
    "def hist_into_curve(distrib:list):\n",
    "    'this function takes an histogram list and return X and Y arrays to plot the associated curve'\n",
    "    \n",
    "    total=len(distrib)\n",
    "    maximum=max(distrib)\n",
    "    #print(maximum)\n",
    "    X=np.linspace(0,maximum,maximum+1)\n",
    "    Y=[]\n",
    "    for k in X:\n",
    "        counter=0\n",
    "        for i in range(len(distrib)):\n",
    "            if k==distrib[i]:\n",
    "                counter+=1\n",
    "        Y.append(counter)   \n",
    "    \n",
    "    Y=np.asarray(Y)\n",
    "    return X, Y*1.0/total  \n",
    "\n",
    "def cumulative_cld(path_of_folder:str) -> array:\n",
    "    cld_cumulated=[];\n",
    "\n",
    "    for i in range(len(os.listdir(path_of_folder))):\n",
    "        file_name='glycogen_structure'+str(i+1)+'.json'\n",
    "        path=path_of_folder+'/'+file_name\n",
    "\n",
    "        with open(path, \"r\") as f:\n",
    "            my_granule_data = json.load(f)\n",
    "        \n",
    "        distrib = cld(my_granule_data)\n",
    "        cld_cumulated= cld_cumulated + distrib\n",
    "\n",
    "    return(cld_cumulated)\n",
    "\n",
    "def plot_cld_from_distrib(liste):\n",
    "\n",
    "    bins1 = np.linspace(0,max(liste), max(liste)+1)\n",
    "    plt.figure(figsize=(14,7))\n",
    "    plt.hist(liste, bins= bins1, color = 'grey', alpha =0.5, edgecolor = 'black', label = 'packed', density = 1)\n",
    "    plt.xlabel('DP', fontsize = 20)\n",
    "    plt.ylabel ('relative abundances', fontsize = 20)\n",
    "    plt.legend()\n",
    "    plt.tick_params(axis='both', which='major', labelsize=17)\n",
    "    plt.xlim([0,50])\n",
    "    plt.show()"
   ]
  },
  {
   "cell_type": "code",
   "execution_count": 17,
   "metadata": {},
   "outputs": [],
   "source": [
    "folder_name = '/data_for_heatmaps'"
   ]
  },
  {
   "cell_type": "code",
   "execution_count": 18,
   "metadata": {},
   "outputs": [],
   "source": [
    "curves = []\n",
    "curves_index = []\n",
    "likelyhood = []\n",
    "i = 0\n",
    "for leftover in values_for_leftover:\n",
    "    i+=1\n",
    "    j=0\n",
    "    heatmap = np.zeros((len(values_for_spacing),len(values_for_gamma)))\n",
    "\n",
    "    for spacing in values_for_spacing:\n",
    "        j+=1\n",
    "        k=0\n",
    "\n",
    "        for gs,gbe in zip(values_for_gys,values_for_gbe): \n",
    "            k+=1\n",
    "\n",
    "            identifier = str(spacing)+str(leftover)+str(leftover)+'_'+str(gs/gbe)  \n",
    "            folder_path = path_of_local_folder+folder_name+'/'+identifier\n",
    "            \n",
    "            distrib = cumulative_cld(folder_path)\n",
    "          \n",
    "\n",
    "            DP, Abundance = hist_into_curve(distrib)\n",
    "            Abundance = list(Abundance)\n",
    "            while len(Abundance)<41:\n",
    "                Abundance.append(0)\n",
    "            Abundance = Abundance[:len(Y_wt)]\n",
    "            Abundance = 100*np.asarray(Abundance)\n",
    "            curves.append(Abundance)\n",
    "            curves_index.append([leftover,spacing,gs/gbe])\n",
    "\n",
    "            heatmap[j-1][k-1] = np.sum((Abundance-np.asarray(Y_wt))**2)\n",
    "            \n",
    "    likelyhood.append(heatmap)"
   ]
  },
  {
   "cell_type": "code",
   "execution_count": 19,
   "metadata": {},
   "outputs": [
    {
     "data": {
      "image/png": "[encoded data removed]",
      "text/plain": [
       "<Figure size 864x1800 with 2 Axes>"
      ]
     },
     "metadata": {
      "needs_background": "light"
     },
     "output_type": "display_data"
    }
   ],
   "source": [
    "x_ticks = [k for k in range(0,len(values_for_gamma))]\n",
    "y_ticks = [k for k in range(0,len(values_for_spacing))]\n",
    "\n",
    "fig, ax1 = plt.subplots(1,1,figsize=(12,25))\n",
    "im1 = ax1.imshow(likelyhood[0])\n",
    "ax1.set_title(r'$L_{leftover / transferred} = $'+str(leftover),fontsize='25')\n",
    "ax1.set_xticks(x_ticks)\n",
    "ax1.set_xticklabels(values_for_gamma,fontsize='25')\n",
    "ax1.set_yticks(y_ticks)\n",
    "ax1.set_yticklabels(values_for_spacing,fontsize='25') \n",
    "divider1 = make_axes_locatable(ax1)\n",
    "cax1 = divider1.append_axes(\"right\", size=\"5%\", pad=0.05)\n",
    "cbar1 = plt.colorbar(im1, cax=cax1)\n",
    "im1.set_clim(0,250)\n",
    "ax1.set_xlabel('$\\Gamma$',fontsize='25')\n",
    "ax1.set_ylabel(r'$L_{spacing}$',fontsize='25')\n",
    "cbar1.set_label('fitting score', rotation=270, labelpad=40,fontsize='25')\n",
    "cbar1.ax.tick_params(labelsize=20)\n",
    "\n",
    "for (j,i),label in np.ndenumerate(likelyhood[0]):\n",
    "    ax1.text(i,j,round(label,1),ha='center',va='center',color = 'white')\n",
    "\n",
    "plt.savefig('heatmaps_example.png', dpi = 350 )"
   ]
  },
  {
   "cell_type": "code",
   "execution_count": null,
   "metadata": {},
   "outputs": [],
   "source": []
  },
  {
   "cell_type": "code",
   "execution_count": null,
   "metadata": {},
   "outputs": [],
   "source": []
  }
 ],
 "metadata": {
  "kernelspec": {
   "display_name": "Python 3.9.12 ('base')",
   "language": "python",
   "name": "python3"
  },
  "language_info": {
   "codemirror_mode": {
    "name": "ipython",
    "version": 3
   },
   "file_extension": ".py",
   "mimetype": "text/x-python",
   "name": "python",
   "nbconvert_exporter": "python",
   "pygments_lexer": "ipython3",
   "version": "3.9.12"
  },
  "vscode": {
   "interpreter": {
    "hash": "2afb6e1a12f5a73040c3781616f0d213fad29ab43894d4d2d871d39c0f275adb"
   }
  }
 },
 "nbformat": 4,
 "nbformat_minor": 2
}
