{
 "cells": [
  {
   "cell_type": "markdown",
   "id": "f203e428",
   "metadata": {},
   "source": [
    "# Reproduction of figure 13\n",
    "\n",
    "In this notebook we describe how to generate fig 13 from the paper.\n"
   ]
  },
  {
   "cell_type": "code",
   "execution_count": 9,
   "id": "9e6d8998",
   "metadata": {},
   "outputs": [],
   "source": [
    "import math\n",
    "import numpy as np\n",
    "from pylab import *\n",
    "import os, os.path\n",
    "import json\n",
    "import glycogen_module as gm\n",
    "import random\n",
    "import pandas as pd\n",
    "import matplotlib.pyplot as plt\n"
   ]
  },
  {
   "cell_type": "markdown",
   "id": "d19e2e23",
   "metadata": {},
   "source": [
    "## Generating data\n",
    "\n",
    "As a example, we will generate de data needed to reproduce fig 13, top-left panel. For that, we set $\\Gamma = 0.1$\n",
    "\n",
    "Again, by default, we generate a small number of simulations (n = 5), with low molecular weight (N = 2500), to keep the computational time low (1 minute approx)."
   ]
  },
  {
   "cell_type": "code",
   "execution_count": 10,
   "id": "1f142a92",
   "metadata": {},
   "outputs": [],
   "source": [
    "with open(\"parameters.json\", \"r\") as f:\n",
    "    parameters = json.load(f)\n",
    "    \n",
    "parameters['size_spec_gbe_spacing'] = 2\n",
    "parameters['size_spec_gbe_leftover'] = 2\n",
    "parameters['size_spec_gbe_transferred'] =2\n",
    "\n",
    "parameters['GS'] = 0.1\n",
    "parameters['GBE'] = 1.0\n",
    "parameters['number_of_glucose_to_be_fixed']= 2500\n",
    "\n",
    "number_of_simulations = 5\n",
    "\n",
    "path_of_local_folder = os.getcwd()\n",
    "folder_name = '/data_for_fig13'\n",
    "os.mkdir(path_of_local_folder+folder_name)\n",
    "data_path = path_of_local_folder+folder_name"
   ]
  },
  {
   "cell_type": "code",
   "execution_count": 11,
   "id": "78c8311e",
   "metadata": {},
   "outputs": [],
   "source": [
    "def Gillespie_step(structure, C):\n",
    "    ''' This functions takes concentrations of the enzymes and the structure info of a glycogen granules and\n",
    "    return what is the next reaction to occurs and which time has been spent. (Following a gillespie algorithm)\n",
    "    '''\n",
    "\n",
    "    #propensity assuming mass action kinetics\n",
    "    h_gs = C[\"GS\"]*len(structure.Find_chain_for_gs())\n",
    "    h_gp = C[\"GP\"]*len(structure.Find_chain_for_gp())\n",
    "    h_gbe = C[\"GBE\"]*len(structure.Find_chain_for_gbe())\n",
    "    h_gde = C[\"GDE\"]*len(structure.Find_chain_for_gde())\n",
    "    \n",
    "    \n",
    "    #print(h_gs,h_gbe)\n",
    "    a = h_gs + h_gp + h_gbe + h_gde\n",
    "    \n",
    "    if a == 0:\n",
    "        return \"no reaction can be proceed, all propensities are zero\",0\n",
    "    r2=random.uniform(0,a)    \n",
    "    r1=random.uniform(0,1)\t\n",
    "    \n",
    "    d_t = (1/a)*math.log(1/r1)\n",
    "    if r2 < h_gs :\n",
    "        return \"Act_gs\",d_t\n",
    "    if r2 >= h_gs and r2 < h_gs + h_gp :\n",
    "        return \"Act_gp\",d_t\n",
    "    if r2 >=  h_gs + h_gp  and r2 < h_gs + h_gp + h_gbe :\n",
    "        return \"Act_gbe\",d_t\n",
    "    if r2 >=  h_gs + h_gp + h_gbe  and r2 < h_gs + h_gp + h_gbe + +h_gde:\n",
    "        return \"Act_gde\",d_t   "
   ]
  },
  {
   "cell_type": "code",
   "execution_count": 12,
   "id": "3c81155f",
   "metadata": {},
   "outputs": [],
   "source": [
    "C0 = {\"GS\":parameters['GS'],\"GBE\":parameters['GBE'],\"GP\":0.0,\"GDE\":0.0} \n",
    "\n",
    "\n",
    "for model in ['flexible','strict']:\n",
    "\n",
    "    os.mkdir(data_path+'/'+str(model))\n",
    "    folder_path =data_path+'/'+str(model)\n",
    "\n",
    "    for i in range(number_of_simulations):\n",
    "\n",
    "        my_granule = gm.glycogen_structure(parameters, 2,1)\n",
    "        N = my_granule.number_of_glucose_fixed()  \n",
    "\n",
    "\n",
    "        while N < parameters['number_of_glucose_to_be_fixed']:\n",
    "\n",
    "            reaction, time = Gillespie_step(my_granule, C0)\n",
    "            \n",
    "            if reaction == 'Act_gs':\n",
    "                my_granule.Act_gs()\n",
    "            elif reaction == 'Act_gp':\n",
    "                my_granule.Act_gp()\n",
    "            elif reaction == 'Act_gbe':\n",
    "                if model == 'flexible':\n",
    "                    my_granule.Act_gbe_flexible_model()\n",
    "                elif model =='strict':\n",
    "                    my_granule.Act_gbe_strict_location()\n",
    "            elif reaction == 'Act_gde':\n",
    "                my_granule.Act_gde()\n",
    "\n",
    "            N = my_granule.number_of_glucose_fixed()\n",
    "\n",
    "        name = 'glycogen_structure'+str(len( os.listdir(folder_path) )+1)+'.json'\n",
    "        my_granule.write_structure( folder_path+'/'+name) "
   ]
  },
  {
   "cell_type": "markdown",
   "id": "70335be8",
   "metadata": {},
   "source": [
    "## reading the outputs:"
   ]
  },
  {
   "cell_type": "markdown",
   "id": "fb7242a2",
   "metadata": {},
   "source": [
    "### Requiered functions:"
   ]
  },
  {
   "cell_type": "code",
   "execution_count": 13,
   "id": "2057e053",
   "metadata": {},
   "outputs": [],
   "source": [
    "def cld(dict):\n",
    "    histo=[]\n",
    "    for chain in dict.values(): \n",
    "        histo.append(len(chain['glucose_location']))\n",
    "    return histo \n",
    "\n",
    "def cumulative_cld(path_of_folder:str) -> array:\n",
    "    cld_cumulated=[];\n",
    "\n",
    "    for i in range(len(os.listdir(path_of_folder))):\n",
    "        file_name='glycogen_structure'+str(i+1)+'.json'\n",
    "        path=path_of_folder+'/'+file_name\n",
    "\n",
    "        with open(path, \"r\") as f:\n",
    "            my_granule_data = json.load(f)\n",
    "        \n",
    "        distrib = cld(my_granule_data)\n",
    "        cld_cumulated= cld_cumulated + distrib\n",
    "\n",
    "    return(cld_cumulated)\n",
    "\n",
    "def plot_cld_from_distrib(liste):\n",
    "\n",
    "    bins1 = np.linspace(0,max(liste), max(liste)+1)\n",
    "    plt.figure(figsize=(14,7))\n",
    "    plt.hist(liste, bins= bins1, color = 'grey', alpha =0.5, edgecolor = 'black', label = 'packed', density = 1)\n",
    "    plt.xlabel('DP', fontsize = 20)\n",
    "    plt.ylabel ('relative abundances', fontsize = 20)\n",
    "    plt.legend()\n",
    "    plt.tick_params(axis='both', which='major', labelsize=17)\n",
    "    plt.xlim([0,50])\n",
    "    plt.show()\n",
    "\n",
    "def cumulative_cld(path_of_folder:str) -> array:\n",
    "    cld_cumulated=[]\n",
    "\n",
    "    for i in range(len(os.listdir(path_of_folder))):\n",
    "        file_name='glycogen_structure'+str(i+1)+'.json'\n",
    "        path=path_of_folder+'/'+file_name\n",
    "\n",
    "        with open(path, \"r\") as f:\n",
    "            my_granule_data = json.load(f)\n",
    "        \n",
    "        distrib = cld(my_granule_data)\n",
    "        cld_cumulated= cld_cumulated + distrib\n",
    "\n",
    "    return(cld_cumulated)\n",
    "\n",
    "def hist_into_curve(distrib:list):\n",
    "    'this function takes an histogram list and return X and Y arrays to plot the associated curve'\n",
    "    \n",
    "    total=len(distrib)\n",
    "    maximum=max(distrib)\n",
    "    #print(maximum)\n",
    "    X=np.linspace(0,maximum,maximum+1)\n",
    "    Y=[]\n",
    "    for k in X:\n",
    "        counter=0\n",
    "        for i in range(len(distrib)):\n",
    "            if k==distrib[i]:\n",
    "                counter+=1\n",
    "        Y.append(counter)   \n",
    "    \n",
    "    Y=np.asarray(Y)\n",
    "    return X, Y*1.0/total"
   ]
  },
  {
   "cell_type": "markdown",
   "id": "80bd8a57",
   "metadata": {},
   "source": [
    "### Read the datafiles previously generated"
   ]
  },
  {
   "cell_type": "code",
   "execution_count": 16,
   "id": "6856bddb",
   "metadata": {},
   "outputs": [
    {
     "data": {
      "image/png": "[encoded data removed]",
      "text/plain": [
       "<Figure size 720x504 with 1 Axes>"
      ]
     },
     "metadata": {
      "needs_background": "light"
     },
     "output_type": "display_data"
    }
   ],
   "source": [
    "# paths to respectives datafiles\n",
    "data1 =data_path+'/flexible'\n",
    "data2 =data_path+'/strict'\n",
    "\n",
    "\n",
    "distrib_1 = cumulative_cld(data1)\n",
    "distrib_2 = cumulative_cld(data2)\n",
    "\n",
    "\n",
    "bins1 = np.linspace(0,max(distrib_1), max(distrib_1)+1)\n",
    "bins2 = np.linspace(0,max(distrib_2), max(distrib_2)+1)\n",
    "\n",
    "figure(figsize=(10,7))\n",
    "\n",
    "plt.hist(distrib_1,bins=bins1,histtype='stepfilled',color = 'blue', alpha=0.4, edgecolor='blue', density=True ,\n",
    "linewidth=3,label=r'Flexible location model')\n",
    "plt.hist(distrib_2,bins=bins2,histtype='stepfilled',color = 'red', alpha=0.4, edgecolor='red', density=True ,\n",
    "linewidth=3,label=r'Strict location model')\n",
    "\n",
    "\n",
    "plt.legend(prop={'size': 20})\n",
    "plt.xlabel('DP',fontsize='35')\n",
    "plt.ylabel('Relative abundances',fontsize='35')\n",
    "plt.tick_params(axis='both',width=3,labelsize=20)\n",
    "plt.xlim([0,60])\n",
    "plt.show() "
   ]
  }
 ],
 "metadata": {
  "kernelspec": {
   "display_name": "Python 3",
   "language": "python",
   "name": "python3"
  },
  "language_info": {
   "codemirror_mode": {
    "name": "ipython",
    "version": 3
   },
   "file_extension": ".py",
   "mimetype": "text/x-python",
   "name": "python",
   "nbconvert_exporter": "python",
   "pygments_lexer": "ipython3",
   "version": "3.9.12"
  }
 },
 "nbformat": 4,
 "nbformat_minor": 5
}
