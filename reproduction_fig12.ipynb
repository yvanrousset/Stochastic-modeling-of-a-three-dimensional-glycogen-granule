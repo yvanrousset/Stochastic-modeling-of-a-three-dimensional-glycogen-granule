{
 "cells": [
  {
   "cell_type": "markdown",
   "id": "f203e428",
   "metadata": {},
   "source": [
    "# Reproduction of figure 11\n",
    "\n",
    "In this notebook we describe how to generate fig 11 from the paper.\n"
   ]
  },
  {
   "cell_type": "code",
   "execution_count": 1,
   "id": "9e6d8998",
   "metadata": {},
   "outputs": [],
   "source": [
    "import math\n",
    "import numpy as np\n",
    "from pylab import *\n",
    "import os, os.path\n",
    "import json\n",
    "import glycogen_module as gm\n",
    "import random\n",
    "import pandas as pd\n",
    "import matplotlib.pyplot as plt\n"
   ]
  },
  {
   "cell_type": "markdown",
   "id": "d19e2e23",
   "metadata": {},
   "source": [
    "## Generating data\n",
    "\n",
    "As a example, we will generate the case used in the paper where the branching mechanism's fingerprints is \\{1,3,3\\}, with $\\Gamma = 0.6$ for 3 different values of $\\rho$: 0.000 nm, 0.325 nm and 0.650 nm.\n",
    "\n",
    "In our simulation, $\\rho$ is unitless and captured throught parameter `b` with $b = 1 \\leftrightarrow \\rho = 0.24 nm$. Since two spheres overlap only if the distance separating their centers $D_{1,2}$ is less than $2 \\cdot \\rho$:\n",
    "i.e: $$ D_{1,2} = \\sqrt{(x_1-x_2)^2+(y_1-y_2)^2+(z_1-z_2)^2} < 2\\rho $$\n",
    "\n",
    "The criteria $$ D_{1,2}^{\\textrm{real}} < 1.3 nm$$ becomes $$  D_{1,2}^{\\textrm{unitless}} < b=5.4 $$ \n",
    "\n",
    "Again, by default, we generate a small number of simulations (n = 5), with low molecular weight (N = 2500), to keep the computational time low."
   ]
  },
  {
   "cell_type": "code",
   "execution_count": 9,
   "id": "1f142a92",
   "metadata": {},
   "outputs": [],
   "source": [
    "with open(\"parameters.json\", \"r\") as f:\n",
    "    parameters = json.load(f)\n",
    "    \n",
    "parameters['size_spec_gbe_spacing'] = 1\n",
    "parameters['size_spec_gbe_leftover'] = 3\n",
    "parameters['size_spec_gbe_transferred'] = 3\n",
    "\n",
    "parameters['GS'] = 0.6\n",
    "parameters['GBE'] = 1.0\n",
    "parameters['number_of_glucose_to_be_fixed']= 1500\n",
    "\n",
    "number_of_simulations = 5\n",
    "\n",
    "path_of_local_folder = os.getcwd()\n",
    "folder_name = '/data_for_fig11'\n",
    "os.mkdir(path_of_local_folder+folder_name)\n",
    "data_path = path_of_local_folder+folder_name"
   ]
  },
  {
   "cell_type": "code",
   "execution_count": 10,
   "id": "78c8311e",
   "metadata": {},
   "outputs": [],
   "source": [
    "def Gillespie_step(structure, C):\n",
    "    ''' This functions takes concentrations of the enzymes and the structure info of a glycogen granules and\n",
    "    return what is the next reaction to occurs and which time has been spent. (Following a gillespie algorithm)\n",
    "    '''\n",
    "\n",
    "    #propensity assuming mass action kinetics\n",
    "    h_gs = C[\"GS\"]*len(structure.Find_chain_for_gs())\n",
    "    h_gp = C[\"GP\"]*len(structure.Find_chain_for_gp())\n",
    "    h_gbe = C[\"GBE\"]*len(structure.Find_chain_for_gbe())\n",
    "    h_gde = C[\"GDE\"]*len(structure.Find_chain_for_gde())\n",
    "    \n",
    "    \n",
    "    #print(h_gs,h_gbe)\n",
    "    a = h_gs + h_gp + h_gbe + h_gde\n",
    "    \n",
    "    if a == 0:\n",
    "        return \"no reaction can be proceed, all propensities are zero\",0\n",
    "    r2=random.uniform(0,a)    \n",
    "    r1=random.uniform(0,1)\t\n",
    "    \n",
    "    d_t = (1/a)*math.log(1/r1)\n",
    "    if r2 < h_gs :\n",
    "        return \"Act_gs\",d_t\n",
    "    if r2 >= h_gs and r2 < h_gs + h_gp :\n",
    "        return \"Act_gp\",d_t\n",
    "    if r2 >=  h_gs + h_gp  and r2 < h_gs + h_gp + h_gbe :\n",
    "        return \"Act_gbe\",d_t\n",
    "    if r2 >=  h_gs + h_gp + h_gbe  and r2 < h_gs + h_gp + h_gbe + +h_gde:\n",
    "        return \"Act_gde\",d_t   "
   ]
  },
  {
   "cell_type": "code",
   "execution_count": 11,
   "id": "3c81155f",
   "metadata": {},
   "outputs": [],
   "source": [
    "C0 = {\"GS\":parameters['GS'],\"GBE\":parameters['GBE'],\"GP\":0.0,\"GDE\":0.0} \n",
    "\n",
    "for b in [0, 2.7, 5.4]:\n",
    "    parameters['b'] = b\n",
    "    os.mkdir(data_path+'/'+'glucose_radius_'+str(b))\n",
    "    folder_path =data_path+'/''glucose_radius_'+str(b)\n",
    "    \n",
    "    for i in range(number_of_simulations):\n",
    "\n",
    "        my_granule = gm.glycogen_structure(parameters, 2,1)\n",
    "        N = my_granule.number_of_glucose_fixed()  \n",
    "\n",
    "\n",
    "        while N < parameters['number_of_glucose_to_be_fixed']:\n",
    "\n",
    "            reaction, time = Gillespie_step(my_granule, C0)\n",
    "            #print(reaction)\n",
    "            if reaction == 'Act_gs':\n",
    "                my_granule.Act_gs()\n",
    "            elif reaction == 'Act_gp':\n",
    "                my_granule.Act_gp()\n",
    "            elif reaction == 'Act_gbe':\n",
    "                my_granule.Act_gbe_flexible_model()\n",
    "            elif reaction == 'Act_gde':\n",
    "                my_granule.Act_gde()\n",
    "\n",
    "            N = my_granule.number_of_glucose_fixed()\n",
    "\n",
    "        name = 'glycogen_structure'+str(len( os.listdir(folder_path) )+1)+'.json'\n",
    "        my_granule.write_structure( folder_path+'/'+name) "
   ]
  },
  {
   "cell_type": "markdown",
   "id": "3a7ffec0",
   "metadata": {},
   "source": [
    "## reading the outputs:"
   ]
  },
  {
   "cell_type": "markdown",
   "id": "04795a37",
   "metadata": {},
   "source": [
    "### Requiered functions:"
   ]
  },
  {
   "cell_type": "code",
   "execution_count": 12,
   "id": "2057e053",
   "metadata": {},
   "outputs": [],
   "source": [
    "def cld(dict):\n",
    "    histo=[]\n",
    "    for chain in dict.values(): \n",
    "        histo.append(len(chain['glucose_location']))\n",
    "    return histo \n",
    "\n",
    "def cumulative_cld(path_of_folder:str) -> array:\n",
    "    cld_cumulated=[];\n",
    "\n",
    "    for i in range(len(os.listdir(path_of_folder))):\n",
    "        file_name='glycogen_structure'+str(i+1)+'.json'\n",
    "        path=path_of_folder+'/'+file_name\n",
    "\n",
    "        with open(path, \"r\") as f:\n",
    "            my_granule_data = json.load(f)\n",
    "        \n",
    "        distrib = cld(my_granule_data)\n",
    "        cld_cumulated= cld_cumulated + distrib\n",
    "\n",
    "    return(cld_cumulated)\n",
    "\n",
    "def plot_cld_from_distrib(liste):\n",
    "\n",
    "    bins1 = np.linspace(0,max(liste), max(liste)+1)\n",
    "    plt.figure(figsize=(14,7))\n",
    "    plt.hist(liste, bins= bins1, color = 'grey', alpha =0.5, edgecolor = 'black', label = 'packed', density = 1)\n",
    "    plt.xlabel('DP', fontsize = 20)\n",
    "    plt.ylabel ('relative abundances', fontsize = 20)\n",
    "    plt.legend()\n",
    "    plt.tick_params(axis='both', which='major', labelsize=17)\n",
    "    plt.xlim([0,50])\n",
    "    plt.show()\n",
    "\n",
    "def cumulative_cld(path_of_folder:str) -> array:\n",
    "    cld_cumulated=[]\n",
    "\n",
    "    for i in range(len(os.listdir(path_of_folder))):\n",
    "        file_name='glycogen_structure'+str(i+1)+'.json'\n",
    "        path=path_of_folder+'/'+file_name\n",
    "\n",
    "        with open(path, \"r\") as f:\n",
    "            my_granule_data = json.load(f)\n",
    "        \n",
    "        distrib = cld(my_granule_data)\n",
    "        cld_cumulated= cld_cumulated + distrib\n",
    "\n",
    "    return(cld_cumulated)\n",
    "\n",
    "def hist_into_curve(distrib:list):\n",
    "    'this function takes an histogram list and return X and Y arrays to plot the associated curve'\n",
    "    \n",
    "    total=len(distrib)\n",
    "    maximum=max(distrib)\n",
    "    #print(maximum)\n",
    "    X=np.linspace(0,maximum,maximum+1)\n",
    "    Y=[]\n",
    "    for k in X:\n",
    "        counter=0\n",
    "        for i in range(len(distrib)):\n",
    "            if k==distrib[i]:\n",
    "                counter+=1\n",
    "        Y.append(counter)   \n",
    "    \n",
    "    Y=np.asarray(Y)\n",
    "    return X, Y*1.0/total"
   ]
  },
  {
   "cell_type": "markdown",
   "id": "094ae16b",
   "metadata": {},
   "source": [
    "### Read the datafiles previously generated"
   ]
  },
  {
   "cell_type": "code",
   "execution_count": 16,
   "id": "c18ed29f",
   "metadata": {},
   "outputs": [
    {
     "data": {
      "image/png": "[encoded data removed]",
      "text/plain": [
       "<Figure size 720x504 with 1 Axes>"
      ]
     },
     "metadata": {
      "needs_background": "light"
     },
     "output_type": "display_data"
    }
   ],
   "source": [
    "data1 =data_path+'/''glucose_radius_'+str(0)\n",
    "data2 =data_path+'/''glucose_radius_'+str(2.7)\n",
    "data3 =data_path+'/''glucose_radius_'+str(5.4)\n",
    "\n",
    "distrib_1 = cumulative_cld(data1)\n",
    "#DP, Abundance = hist_into_curve(distrib)\n",
    "\n",
    "distrib_2 = cumulative_cld(data2)\n",
    "#DP, Abundance = hist_into_curve(distrib)\n",
    "distrib_3 = cumulative_cld(data3)\n",
    "#DP, Abundance = hist_into_curve(distrib)\n",
    "\n",
    "bins1 = np.linspace(0,max(distrib_1), max(distrib_1)+1)\n",
    "bins2 = np.linspace(0,max(distrib_2), max(distrib_2)+1)\n",
    "bins3 = np.linspace(0,max(distrib_3), max(distrib_3)+1)\n",
    "\n",
    "figure(figsize=(10,7))\n",
    "\n",
    "plt.hist(distrib_1,bins=bins1,histtype='stepfilled',color = 'blue', alpha=0.4, edgecolor='black', density=True ,\n",
    "linewidth=3,label=r'$\\rho = 0.000$ nm')\n",
    "plt.hist(distrib_2,bins=bins2,histtype='stepfilled',color = 'red', alpha=0.4, edgecolor='black', density=True ,\n",
    "linewidth=3,label=r'$\\rho = 0.325$ nm')\n",
    "plt.hist(distrib_3,bins=bins3,histtype='stepfilled',color = 'lime', alpha=0.4, edgecolor='black', density=True ,\n",
    "linewidth=3,label=r'$\\rho = 0.650$ nm')\n",
    "\n",
    "plt.legend(prop={'size': 20})\n",
    "plt.xlabel('DP',fontsize='35')\n",
    "plt.ylabel('Relative abundances',fontsize='35')\n",
    "plt.tick_params(axis='both',width=3,labelsize=20)\n",
    "plt.xlim([0,60])\n",
    "plt.show() "
   ]
  },
  {
   "cell_type": "code",
   "execution_count": null,
   "id": "7a1ebc39",
   "metadata": {},
   "outputs": [],
   "source": []
  }
 ],
 "metadata": {
  "kernelspec": {
   "display_name": "Python 3",
   "language": "python",
   "name": "python3"
  },
  "language_info": {
   "codemirror_mode": {
    "name": "ipython",
    "version": 3
   },
   "file_extension": ".py",
   "mimetype": "text/x-python",
   "name": "python",
   "nbconvert_exporter": "python",
   "pygments_lexer": "ipython3",
   "version": "3.9.12"
  }
 },
 "nbformat": 4,
 "nbformat_minor": 5
}
